{
 "cells": [
  {
   "cell_type": "code",
   "execution_count": null,
   "id": "2215a474",
   "metadata": {},
   "outputs": [],
   "source": [
    "# Cell 1: Imports\n",
    "import pandas as pd\n",
    "from IPython.display import display, Markdown\n",
    "import matplotlib.pyplot as plt\n",
    "import seaborn as sns\n",
    "\n",
    "sns.set(style=\"whitegrid\")"
   ]
  },
  {
   "cell_type": "code",
   "execution_count": null,
   "id": "43dad6a7",
   "metadata": {},
   "outputs": [],
   "source": [
    "# Cell 2: Table 1 - Record Summary\n",
    "record_data = [\n",
    "    [\"ALL GAMES\", \"17-4\", \"8-1\", \"6-2\", \"3-1\"],\n",
    "    [\"CONFERENCE\", \"8-2\", \"5-1\", \"3-1\", \"0-0\"],\n",
    "    [\"NON-CONFERENCE\", \"9-2\", \"3-0\", \"3-1\", \"3-1\"]\n",
    "]\n",
    "record_columns = [\"Category\", \"Overall\", \"Home\", \"Away\", \"Neutral\"]\n",
    "record_df = pd.DataFrame(record_data, columns=record_columns)\n",
    "\n",
    "display(Markdown(\"### 🏆 Table 1: Record Summary\"))\n",
    "display(record_df)"
   ]
  },
  {
   "cell_type": "code",
   "execution_count": null,
   "id": "541815ea",
   "metadata": {},
   "outputs": [],
   "source": [
    "# Cell 3: Table 2 - Game Results (Subset)\n",
    "game_data = [\n",
    "    [\"Feb 20\", \"at #4 Loyola Maryland\", \"W\", \"18-6\", 0],\n",
    "    [\"Feb 27\", \"#5 STONY BROOK\", \"W\", \"16-6\", 0],\n",
    "    [\"Mar 06\", \"at #10 Duke\", \"W\", \"15-5\", 0],\n",
    "    [\"Apr 3\", \"at #1 North Carolina\", \"L\", \"6-17\", 609],\n",
    "    [\"May 30\", \"vs #4 Boston College\", \"L\", \"10-16\", 5405]\n",
    "]\n",
    "game_columns = [\"Date\", \"Opponent\", \"Result\", \"Score\", \"Attendance\"]\n",
    "game_df = pd.DataFrame(game_data, columns=game_columns)\n",
    "\n",
    "display(Markdown(\"### 📅 Table 2: Sample Game Results\"))\n",
    "display(game_df)"
   ]
  },
  {
   "cell_type": "code",
   "execution_count": null,
   "id": "d17101d5",
   "metadata": {},
   "outputs": [],
   "source": [
    "# Cell 4: Simple Statistics\n",
    "# Number of wins and losses\n",
    "wins = game_df[game_df[\"Result\"] == \"W\"].shape[0]\n",
    "losses = game_df[game_df[\"Result\"] == \"L\"].shape[0]\n",
    "display(Markdown(f\"**Summary:** The team won `{wins}` games and lost `{losses}` games in the shown subset.\"))"
   ]
  },
  {
   "cell_type": "code",
   "execution_count": null,
   "id": "37d5745e",
   "metadata": {},
   "outputs": [],
   "source": [
    "# Cell 5: Preprocessing Score into two separate numeric columns\n",
    "game_df[['Team_Score', 'Opponent_Score']] = game_df['Score'].str.split('-', expand=True).astype(int)\n",
    "game_df['Score_Diff'] = game_df['Team_Score'] - game_df['Opponent_Score']"
   ]
  },
  {
   "cell_type": "code",
   "execution_count": null,
   "id": "88185ee0",
   "metadata": {},
   "outputs": [],
   "source": [
    "# Cell 6: Line plot – Team vs Opponent Score per Game\n",
    "plt.figure(figsize=(10, 5))\n",
    "plt.plot(game_df['Date'], game_df['Team_Score'], marker='o', label='Syracuse')\n",
    "plt.plot(game_df['Date'], game_df['Opponent_Score'], marker='s', label='Opponent')\n",
    "plt.xticks(rotation=45)\n",
    "plt.title('Scores Over Time')\n",
    "plt.ylabel('Goals Scored')\n",
    "plt.legend()\n",
    "plt.tight_layout()\n",
    "plt.show()"
   ]
  },
  {
   "cell_type": "code",
   "execution_count": null,
   "id": "1e1b63b8",
   "metadata": {},
   "outputs": [],
   "source": [
    "plt.figure(figsize=(10, 5))\n",
    "sns.barplot(x='Date', y='Attendance', data=game_df)\n",
    "plt.xticks(rotation=45)\n",
    "plt.title('Attendance Per Game')\n",
    "plt.xlabel('Game Date')\n",
    "plt.ylabel('Attendance')\n",
    "plt.tight_layout()\n",
    "plt.show()"
   ]
  },
  {
   "cell_type": "code",
   "execution_count": null,
   "id": "dc421ec3",
   "metadata": {},
   "outputs": [],
   "source": [
    "plt.figure(figsize=(10, 5))\n",
    "sns.barplot(x='Date', y='Score_Diff', data=game_df, hue='Result', palette='Set2')\n",
    "plt.axhline(0, color='gray', linestyle='--')\n",
    "plt.title('Score Margin Per Game')\n",
    "plt.xticks(rotation=45)\n",
    "plt.ylabel('Team Score - Opponent Score')\n",
    "plt.tight_layout()\n",
    "plt.show()"
   ]
  }
 ],
 "metadata": {
  "kernelspec": {
   "display_name": "Python 3",
   "language": "python",
   "name": "python3"
  },
  "language_info": {
   "codemirror_mode": {
    "name": "ipython",
    "version": 3
   },
   "file_extension": ".py",
   "mimetype": "text/x-python",
   "name": "python",
   "nbconvert_exporter": "python",
   "pygments_lexer": "ipython3",
   "version": "3.13.3"
  }
 },
 "nbformat": 4,
 "nbformat_minor": 5
}
